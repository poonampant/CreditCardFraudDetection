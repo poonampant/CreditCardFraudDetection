{
 "cells": [
  {
   "cell_type": "code",
   "execution_count": 60,
   "metadata": {},
   "outputs": [],
   "source": [
    "import pandas as pd\n",
    "import numpy as np\n",
    "import matplotlib.pyplot as plt\n",
    "import seaborn as sns\n",
    "import scipy\n",
    "\n"
   ]
  },
  {
   "cell_type": "code",
   "execution_count": 61,
   "metadata": {},
   "outputs": [],
   "source": [
    "data=pd.read_csv(\"creditcard.csv\")"
   ]
  },
  {
   "cell_type": "code",
   "execution_count": 62,
   "metadata": {},
   "outputs": [
    {
     "name": "stdout",
     "output_type": "stream",
     "text": [
      "<bound method NDFrame.head of             Time         V1         V2        V3        V4        V5  \\\n",
      "0            0.0  -1.359807  -0.072781  2.536347  1.378155 -0.338321   \n",
      "1            0.0   1.191857   0.266151  0.166480  0.448154  0.060018   \n",
      "2            1.0  -1.358354  -1.340163  1.773209  0.379780 -0.503198   \n",
      "3            1.0  -0.966272  -0.185226  1.792993 -0.863291 -0.010309   \n",
      "4            2.0  -1.158233   0.877737  1.548718  0.403034 -0.407193   \n",
      "...          ...        ...        ...       ...       ...       ...   \n",
      "284802  172786.0 -11.881118  10.071785 -9.834783 -2.066656 -5.364473   \n",
      "284803  172787.0  -0.732789  -0.055080  2.035030 -0.738589  0.868229   \n",
      "284804  172788.0   1.919565  -0.301254 -3.249640 -0.557828  2.630515   \n",
      "284805  172788.0  -0.240440   0.530483  0.702510  0.689799 -0.377961   \n",
      "284806  172792.0  -0.533413  -0.189733  0.703337 -0.506271 -0.012546   \n",
      "\n",
      "              V6        V7        V8        V9  ...       V21       V22  \\\n",
      "0       0.462388  0.239599  0.098698  0.363787  ... -0.018307  0.277838   \n",
      "1      -0.082361 -0.078803  0.085102 -0.255425  ... -0.225775 -0.638672   \n",
      "2       1.800499  0.791461  0.247676 -1.514654  ...  0.247998  0.771679   \n",
      "3       1.247203  0.237609  0.377436 -1.387024  ... -0.108300  0.005274   \n",
      "4       0.095921  0.592941 -0.270533  0.817739  ... -0.009431  0.798278   \n",
      "...          ...       ...       ...       ...  ...       ...       ...   \n",
      "284802 -2.606837 -4.918215  7.305334  1.914428  ...  0.213454  0.111864   \n",
      "284803  1.058415  0.024330  0.294869  0.584800  ...  0.214205  0.924384   \n",
      "284804  3.031260 -0.296827  0.708417  0.432454  ...  0.232045  0.578229   \n",
      "284805  0.623708 -0.686180  0.679145  0.392087  ...  0.265245  0.800049   \n",
      "284806 -0.649617  1.577006 -0.414650  0.486180  ...  0.261057  0.643078   \n",
      "\n",
      "             V23       V24       V25       V26       V27       V28  Amount  \\\n",
      "0      -0.110474  0.066928  0.128539 -0.189115  0.133558 -0.021053  149.62   \n",
      "1       0.101288 -0.339846  0.167170  0.125895 -0.008983  0.014724    2.69   \n",
      "2       0.909412 -0.689281 -0.327642 -0.139097 -0.055353 -0.059752  378.66   \n",
      "3      -0.190321 -1.175575  0.647376 -0.221929  0.062723  0.061458  123.50   \n",
      "4      -0.137458  0.141267 -0.206010  0.502292  0.219422  0.215153   69.99   \n",
      "...          ...       ...       ...       ...       ...       ...     ...   \n",
      "284802  1.014480 -0.509348  1.436807  0.250034  0.943651  0.823731    0.77   \n",
      "284803  0.012463 -1.016226 -0.606624 -0.395255  0.068472 -0.053527   24.79   \n",
      "284804 -0.037501  0.640134  0.265745 -0.087371  0.004455 -0.026561   67.88   \n",
      "284805 -0.163298  0.123205 -0.569159  0.546668  0.108821  0.104533   10.00   \n",
      "284806  0.376777  0.008797 -0.473649 -0.818267 -0.002415  0.013649  217.00   \n",
      "\n",
      "        Class  \n",
      "0           0  \n",
      "1           0  \n",
      "2           0  \n",
      "3           0  \n",
      "4           0  \n",
      "...       ...  \n",
      "284802      0  \n",
      "284803      0  \n",
      "284804      0  \n",
      "284805      0  \n",
      "284806      0  \n",
      "\n",
      "[284807 rows x 31 columns]>\n"
     ]
    }
   ],
   "source": [
    "print(data.head)\n"
   ]
  },
  {
   "cell_type": "code",
   "execution_count": 63,
   "metadata": {
    "scrolled": true
   },
   "outputs": [
    {
     "name": "stdout",
     "output_type": "stream",
     "text": [
      "Index(['Time', 'V1', 'V2', 'V3', 'V4', 'V5', 'V6', 'V7', 'V8', 'V9', 'V10',\n",
      "       'V11', 'V12', 'V13', 'V14', 'V15', 'V16', 'V17', 'V18', 'V19', 'V20',\n",
      "       'V21', 'V22', 'V23', 'V24', 'V25', 'V26', 'V27', 'V28', 'Amount',\n",
      "       'Class'],\n",
      "      dtype='object')\n"
     ]
    }
   ],
   "source": [
    "print(data.columns)"
   ]
  },
  {
   "cell_type": "code",
   "execution_count": 64,
   "metadata": {},
   "outputs": [
    {
     "name": "stdout",
     "output_type": "stream",
     "text": [
      "(284807, 31)\n"
     ]
    }
   ],
   "source": [
    "print(data.shape)"
   ]
  },
  {
   "cell_type": "code",
   "execution_count": 65,
   "metadata": {},
   "outputs": [
    {
     "name": "stdout",
     "output_type": "stream",
     "text": [
      "                Time            V1            V2            V3            V4  \\\n",
      "count  284807.000000  2.848070e+05  2.848070e+05  2.848070e+05  2.848070e+05   \n",
      "mean    94813.859575  3.919560e-15  5.688174e-16 -8.769071e-15  2.782312e-15   \n",
      "std     47488.145955  1.958696e+00  1.651309e+00  1.516255e+00  1.415869e+00   \n",
      "min         0.000000 -5.640751e+01 -7.271573e+01 -4.832559e+01 -5.683171e+00   \n",
      "25%     54201.500000 -9.203734e-01 -5.985499e-01 -8.903648e-01 -8.486401e-01   \n",
      "50%     84692.000000  1.810880e-02  6.548556e-02  1.798463e-01 -1.984653e-02   \n",
      "75%    139320.500000  1.315642e+00  8.037239e-01  1.027196e+00  7.433413e-01   \n",
      "max    172792.000000  2.454930e+00  2.205773e+01  9.382558e+00  1.687534e+01   \n",
      "\n",
      "                 V5            V6            V7            V8            V9  \\\n",
      "count  2.848070e+05  2.848070e+05  2.848070e+05  2.848070e+05  2.848070e+05   \n",
      "mean  -1.552563e-15  2.010663e-15 -1.694249e-15 -1.927028e-16 -3.137024e-15   \n",
      "std    1.380247e+00  1.332271e+00  1.237094e+00  1.194353e+00  1.098632e+00   \n",
      "min   -1.137433e+02 -2.616051e+01 -4.355724e+01 -7.321672e+01 -1.343407e+01   \n",
      "25%   -6.915971e-01 -7.682956e-01 -5.540759e-01 -2.086297e-01 -6.430976e-01   \n",
      "50%   -5.433583e-02 -2.741871e-01  4.010308e-02  2.235804e-02 -5.142873e-02   \n",
      "75%    6.119264e-01  3.985649e-01  5.704361e-01  3.273459e-01  5.971390e-01   \n",
      "max    3.480167e+01  7.330163e+01  1.205895e+02  2.000721e+01  1.559499e+01   \n",
      "\n",
      "       ...           V21           V22           V23           V24  \\\n",
      "count  ...  2.848070e+05  2.848070e+05  2.848070e+05  2.848070e+05   \n",
      "mean   ...  1.537294e-16  7.959909e-16  5.367590e-16  4.458112e-15   \n",
      "std    ...  7.345240e-01  7.257016e-01  6.244603e-01  6.056471e-01   \n",
      "min    ... -3.483038e+01 -1.093314e+01 -4.480774e+01 -2.836627e+00   \n",
      "25%    ... -2.283949e-01 -5.423504e-01 -1.618463e-01 -3.545861e-01   \n",
      "50%    ... -2.945017e-02  6.781943e-03 -1.119293e-02  4.097606e-02   \n",
      "75%    ...  1.863772e-01  5.285536e-01  1.476421e-01  4.395266e-01   \n",
      "max    ...  2.720284e+01  1.050309e+01  2.252841e+01  4.584549e+00   \n",
      "\n",
      "                V25           V26           V27           V28         Amount  \\\n",
      "count  2.848070e+05  2.848070e+05  2.848070e+05  2.848070e+05  284807.000000   \n",
      "mean   1.453003e-15  1.699104e-15 -3.660161e-16 -1.206049e-16      88.349619   \n",
      "std    5.212781e-01  4.822270e-01  4.036325e-01  3.300833e-01     250.120109   \n",
      "min   -1.029540e+01 -2.604551e+00 -2.256568e+01 -1.543008e+01       0.000000   \n",
      "25%   -3.171451e-01 -3.269839e-01 -7.083953e-02 -5.295979e-02       5.600000   \n",
      "50%    1.659350e-02 -5.213911e-02  1.342146e-03  1.124383e-02      22.000000   \n",
      "75%    3.507156e-01  2.409522e-01  9.104512e-02  7.827995e-02      77.165000   \n",
      "max    7.519589e+00  3.517346e+00  3.161220e+01  3.384781e+01   25691.160000   \n",
      "\n",
      "               Class  \n",
      "count  284807.000000  \n",
      "mean        0.001727  \n",
      "std         0.041527  \n",
      "min         0.000000  \n",
      "25%         0.000000  \n",
      "50%         0.000000  \n",
      "75%         0.000000  \n",
      "max         1.000000  \n",
      "\n",
      "[8 rows x 31 columns]\n"
     ]
    }
   ],
   "source": [
    "print(data.describe())"
   ]
  },
  {
   "cell_type": "code",
   "execution_count": 66,
   "metadata": {},
   "outputs": [
    {
     "name": "stdout",
     "output_type": "stream",
     "text": [
      "(56961, 31)\n",
      "               Time            V1            V2            V3            V4  \\\n",
      "count   56961.00000  56961.000000  56961.000000  56961.000000  56961.000000   \n",
      "mean    94571.23811      0.007759     -0.007820      0.010548      0.004755   \n",
      "std     47566.88462      1.944402      1.654560      1.495860      1.415369   \n",
      "min         0.00000    -46.855047    -63.344698    -31.813586     -5.266509   \n",
      "25%     53809.00000     -0.915616     -0.607161     -0.883553     -0.843085   \n",
      "50%     84511.00000      0.033625      0.061363      0.185144     -0.012678   \n",
      "75%    139237.00000      1.318624      0.800511      1.031245      0.750016   \n",
      "max    172784.00000      2.411499     17.418649      4.069865     16.715537   \n",
      "\n",
      "                 V5            V6            V7            V8            V9  \\\n",
      "count  56961.000000  56961.000000  56961.000000  56961.000000  56961.000000   \n",
      "mean      -0.011918      0.002191     -0.011845      0.000873      0.007915   \n",
      "std        1.379057      1.329111      1.209897      1.160905      1.093541   \n",
      "min      -42.147898    -23.496714    -26.548144    -33.785407     -8.739670   \n",
      "25%       -0.707818     -0.765759     -0.563241     -0.206358     -0.632800   \n",
      "50%       -0.071228     -0.270147      0.030874      0.024519     -0.044122   \n",
      "75%        0.605042      0.403820      0.558736      0.327343      0.605625   \n",
      "max       34.099309     22.529298     36.677268     19.587773     10.370658   \n",
      "\n",
      "       ...           V21           V22           V23           V24  \\\n",
      "count  ...  56961.000000  56961.000000  56961.000000  56961.000000   \n",
      "mean   ...      0.002932      0.003058     -0.001127     -0.001869   \n",
      "std    ...      0.723614      0.723845      0.654303      0.603150   \n",
      "min    ...    -16.640785    -10.933144    -36.666000     -2.836627   \n",
      "25%    ...     -0.227125     -0.541228     -0.162431     -0.356802   \n",
      "50%    ...     -0.029706      0.010522     -0.010926      0.038833   \n",
      "75%    ...      0.186236      0.531158      0.148271      0.434270   \n",
      "max    ...     22.588989      6.090514     18.946734      3.962197   \n",
      "\n",
      "                V25           V26           V27           V28        Amount  \\\n",
      "count  56961.000000  56961.000000  56961.000000  56961.000000  56961.000000   \n",
      "mean       0.000662      0.002157      0.000632     -0.002841     88.750996   \n",
      "std        0.519287      0.481474      0.393477      0.302685    254.652038   \n",
      "min       -7.025783     -2.534330     -8.260909     -9.617915      0.000000   \n",
      "25%       -0.316805     -0.324992     -0.071111     -0.053391      5.950000   \n",
      "50%        0.017169     -0.049862      0.001250      0.010776     22.160000   \n",
      "75%        0.350835      0.243869      0.089448      0.076211     77.900000   \n",
      "max        5.541598      3.155327     11.135740     15.373170  19656.530000   \n",
      "\n",
      "              Class  \n",
      "count  56961.000000  \n",
      "mean       0.001527  \n",
      "std        0.039052  \n",
      "min        0.000000  \n",
      "25%        0.000000  \n",
      "50%        0.000000  \n",
      "75%        0.000000  \n",
      "max        1.000000  \n",
      "\n",
      "[8 rows x 31 columns]\n"
     ]
    }
   ],
   "source": [
    "data=data.sample(frac=0.2,random_state=1)\n",
    "print(data.shape)\n",
    "print(data.describe())"
   ]
  },
  {
   "cell_type": "code",
   "execution_count": 67,
   "metadata": {},
   "outputs": [
    {
     "data": {
      "image/png": "[encoded data removed]",
      "text/plain": [
       "<Figure size 1440x1440 with 36 Axes>"
      ]
     },
     "metadata": {
      "needs_background": "light"
     },
     "output_type": "display_data"
    }
   ],
   "source": [
    "data.hist(figsize=(20,20))\n",
    "plt.show()"
   ]
  },
  {
   "cell_type": "code",
   "execution_count": 68,
   "metadata": {},
   "outputs": [
    {
     "data": {
      "text/plain": [
       "'Determine no of fraud cases'"
      ]
     },
     "execution_count": 68,
     "metadata": {},
     "output_type": "execute_result"
    }
   ],
   "source": [
    "\"\"\"Determine no of fraud cases\"\"\""
   ]
  },
  {
   "cell_type": "code",
   "execution_count": 69,
   "metadata": {},
   "outputs": [
    {
     "name": "stdout",
     "output_type": "stream",
     "text": [
      "            Time         V1         V2         V3        V4         V5  \\\n",
      "235644  148479.0  -1.541678   3.846800  -7.604114  3.121459  -1.254924   \n",
      "254344  156685.0  -0.129778   0.141547  -0.894702 -0.457662   0.810608   \n",
      "192529  129741.0  -1.396204   2.618584  -6.036770  3.552454   1.030091   \n",
      "176049  122608.0  -2.003460  -7.159042  -4.050976  1.309580  -2.058102   \n",
      "42769    41237.0 -10.281784   6.302385 -13.271718  8.925115  -9.975578   \n",
      "...          ...        ...        ...        ...       ...        ...   \n",
      "76555    56624.0  -7.901421   2.720472  -7.885936  6.348334  -5.480119   \n",
      "191359  129222.0   1.177824   2.487103  -5.330608  5.324547   1.150243   \n",
      "108258   70828.0   0.196707   1.189757   0.704882  2.891388   0.045555   \n",
      "17407    28692.0 -29.200329  16.155701 -30.013712  6.476731 -21.225810   \n",
      "152019   96717.0  -3.705856   4.107873  -3.803656  1.710314  -3.582466   \n",
      "\n",
      "              V6         V7         V8        V9  ...       V21       V22  \\\n",
      "235644 -2.084875  -2.385027   1.471140 -2.530507  ...  1.096405  1.064222   \n",
      "254344 -0.504723   1.373588  -0.209476  0.208494  ... -0.032643 -0.246526   \n",
      "192529 -2.950358  -1.528506   0.189319 -1.433554  ...  0.143177 -0.390176   \n",
      "176049 -0.098621   2.880083  -0.727484  1.460381  ...  1.244287 -1.015232   \n",
      "42769  -2.832513 -12.703253   6.706846 -7.078424  ...  2.479414  0.366933   \n",
      "...          ...        ...        ...       ...  ...       ...       ...   \n",
      "76555  -0.333059  -8.682376   1.164431 -4.542447  ...  0.077739  1.092437   \n",
      "191359 -1.281843  -1.171994   0.413778 -2.659840  ...  0.262325 -0.431790   \n",
      "108258  1.245730  -1.198714  -2.421616 -1.232089  ... -1.328132  0.189311   \n",
      "17407  -4.902997 -19.791248  19.168327 -3.617242  ...  1.809371 -2.175815   \n",
      "152019  1.469729  -9.621560 -11.913105 -0.322297  ... -5.498772  2.941475   \n",
      "\n",
      "             V23       V24       V25       V26       V27       V28   Amount  \\\n",
      "235644  0.065370  0.257209 -0.693654 -0.335702  0.577052  0.398348   122.68   \n",
      "254344  0.484108  0.359637 -0.435972 -0.248480  0.021527  0.109192   187.11   \n",
      "192529  0.356029 -0.762352  0.096510 -0.487861  0.062655 -0.240732     1.00   \n",
      "176049 -1.800985  0.657586 -0.435617 -0.894509 -0.397557  0.314262  2125.87   \n",
      "42769   0.042805  0.478279  0.157771  0.329901  0.163504 -0.485552   118.30   \n",
      "...          ...       ...       ...       ...       ...       ...      ...   \n",
      "76555   0.320133 -0.434643 -0.380687  0.213630  0.423620 -0.105169   153.46   \n",
      "191359 -0.092088  0.145216  0.457788  0.167739  0.451243  0.268421     4.87   \n",
      "108258 -0.005524 -0.814708  0.400924  0.286281  0.135215  0.257315     0.76   \n",
      "17407  -1.365104  0.174286  2.103868 -0.209944  1.278681  0.372393    99.99   \n",
      "152019  0.916236 -0.255504 -0.183835 -0.584539 -0.315484 -0.097223     1.00   \n",
      "\n",
      "        Class  \n",
      "235644      1  \n",
      "254344      1  \n",
      "192529      1  \n",
      "176049      1  \n",
      "42769       1  \n",
      "...       ...  \n",
      "76555       1  \n",
      "191359      1  \n",
      "108258      1  \n",
      "17407       1  \n",
      "152019      1  \n",
      "\n",
      "[87 rows x 31 columns]\n"
     ]
    }
   ],
   "source": [
    "fraud=data[data[\"Class\"]==1]\n",
    "print(fraud)\n",
    "valid=data[data[\"Class\"]==0]\n"
   ]
  },
  {
   "cell_type": "code",
   "execution_count": 70,
   "metadata": {},
   "outputs": [
    {
     "name": "stdout",
     "output_type": "stream",
     "text": [
      "0.0015296972254457222\n"
     ]
    }
   ],
   "source": [
    "outlier_fraction=len(fraud)/float(len(valid))\n",
    "print(outlier_fraction)"
   ]
  },
  {
   "cell_type": "code",
   "execution_count": 71,
   "metadata": {},
   "outputs": [
    {
     "name": "stdout",
     "output_type": "stream",
     "text": [
      "fraud cases 87\n",
      "valid cases 56874\n"
     ]
    }
   ],
   "source": [
    "print('fraud cases {}'.format(len(fraud)))\n",
    "print('valid cases {}'.format(len(valid)))"
   ]
  },
  {
   "cell_type": "code",
   "execution_count": 72,
   "metadata": {},
   "outputs": [
    {
     "data": {
      "text/plain": [
       "'to check which all features are important'"
      ]
     },
     "execution_count": 72,
     "metadata": {},
     "output_type": "execute_result"
    }
   ],
   "source": [
    "\"\"\"to check which all features are important\"\"\""
   ]
  },
  {
   "cell_type": "code",
   "execution_count": 73,
   "metadata": {},
   "outputs": [
    {
     "data": {
      "image/png": "[encoded data removed]",
      "text/plain": [
       "<Figure size 864x1368 with 2 Axes>"
      ]
     },
     "metadata": {
      "needs_background": "light"
     },
     "output_type": "display_data"
    }
   ],
   "source": [
    "cormat=data.corr()\n",
    "fig=plt.figure(figsize=(12,19))\n",
    "\n",
    "sns.heatmap(cormat,vmax=.8,square=True)\n",
    "plt.show()\n"
   ]
  },
  {
   "cell_type": "code",
   "execution_count": 74,
   "metadata": {},
   "outputs": [
    {
     "name": "stdout",
     "output_type": "stream",
     "text": [
      "['Time', 'V1', 'V2', 'V3', 'V4', 'V5', 'V6', 'V7', 'V8', 'V9', 'V10', 'V11', 'V12', 'V13', 'V14', 'V15', 'V16', 'V17', 'V18', 'V19', 'V20', 'V21', 'V22', 'V23', 'V24', 'V25', 'V26', 'V27', 'V28', 'Amount']\n"
     ]
    }
   ],
   "source": [
    "#Get all the columns from dataset\n",
    "columns=data.columns.tolist()\n",
    "\n",
    "columns=[c for c in columns if c not in [\"Class\"]]\n",
    "print(columns)"
   ]
  },
  {
   "cell_type": "code",
   "execution_count": 75,
   "metadata": {},
   "outputs": [
    {
     "name": "stdout",
     "output_type": "stream",
     "text": [
      "            Time        V1        V2        V3        V4        V5        V6  \\\n",
      "169876  119907.0 -0.611712 -0.769705 -0.149759 -0.224877  2.028577 -2.019887   \n",
      "127467   78340.0 -0.814682  1.319219  1.329415  0.027273 -0.284871 -0.653985   \n",
      "137900   82382.0 -0.318193  1.118618  0.969864 -0.127052  0.569563 -0.532484   \n",
      "21513    31717.0 -1.328271  1.018378  1.775426 -1.574193 -0.117696 -0.457733   \n",
      "134700   80923.0  1.276712  0.617120 -0.578014  0.879173  0.061706 -1.472002   \n",
      "...          ...       ...       ...       ...       ...       ...       ...   \n",
      "167241  118564.0  1.807846  0.282700 -1.152681  3.296479  1.504898  2.289534   \n",
      "230213  146238.0  2.059529  0.060552 -1.852741  0.216731  0.612468 -0.350598   \n",
      "275519  166571.0 -0.263581  0.539459  1.151335  0.239111  0.081514  0.406554   \n",
      "148273   89650.0 -0.724439 -0.122047  1.239030 -1.003733  1.170696  1.456970   \n",
      "77261    56969.0  1.119279 -0.171386  1.085255  1.225843 -0.856871  0.226697   \n",
      "\n",
      "              V7        V8        V9  ...       V20       V21       V22  \\\n",
      "169876  0.292491 -0.523020  0.358468  ... -0.196039 -0.075208  0.045536   \n",
      "127467  0.321552  0.435975 -0.704298  ... -0.009041 -0.128619 -0.368565   \n",
      "137900  0.706252 -0.064966 -0.463271  ...  0.206028 -0.305402 -0.774704   \n",
      "21513   0.681867 -0.031641  0.383872  ...  0.315823 -0.220815 -0.419013   \n",
      "134700  0.373692 -0.287204 -0.084482  ... -0.105286 -0.160161 -0.430404   \n",
      "...          ...       ...       ...  ...       ...       ...       ...   \n",
      "167241 -0.238113  0.550519 -1.056272  ... -0.325940  0.369140  1.197552   \n",
      "230213  0.037720 -0.034650  0.341112  ... -0.167555 -0.344438 -0.945853   \n",
      "275519  0.374843  0.164471  0.186264  ... -0.063213 -0.404868 -0.954422   \n",
      "148273  0.091333  0.397337  0.647886  ...  0.236893  0.305360  1.235444   \n",
      "77261  -0.739625  0.307019  0.676399  ... -0.168224  0.146973  0.469163   \n",
      "\n",
      "             V23       V24       V25       V26       V27       V28  Amount  \n",
      "169876  0.380739  0.023440 -2.220686 -0.201146  0.066501  0.221180    1.79  \n",
      "127467  0.090660  0.401147 -0.261034  0.080621  0.162427  0.059456    1.98  \n",
      "137900 -0.123884 -0.495687 -0.018148  0.121679  0.249050  0.092516    0.89  \n",
      "21513  -0.239197  0.009967  0.232829  0.814177  0.098797 -0.004273   15.98  \n",
      "134700 -0.076738  0.258708  0.552170  0.370701 -0.034255  0.041709    0.76  \n",
      "...          ...       ...       ...       ...       ...       ...     ...  \n",
      "167241  0.014807 -0.935666  0.077198  0.325425  0.004893 -0.072603   10.59  \n",
      "230213  0.286955  0.085072 -0.255080  0.179711 -0.070405 -0.045728    1.29  \n",
      "275519  0.133964 -0.416226 -1.035955 -0.095476  0.080044  0.171671   29.24  \n",
      "148273 -0.044052 -0.491608 -0.493830  0.754843  0.225042  0.003735   44.91  \n",
      "77261  -0.137416 -0.003138  0.470351 -0.236954  0.052365  0.022086   19.37  \n",
      "\n",
      "[56961 rows x 30 columns]\n",
      "169876    0\n",
      "127467    0\n",
      "137900    0\n",
      "21513     0\n",
      "134700    0\n",
      "         ..\n",
      "167241    0\n",
      "230213    0\n",
      "275519    0\n",
      "148273    0\n",
      "77261     0\n",
      "Name: Class, Length: 56961, dtype: int64\n"
     ]
    }
   ],
   "source": [
    "\"\"\"target values\"\"\"\n",
    "target=\"Class\"\n",
    "x=data[columns]\n",
    "print(x)\n",
    "y=data[target]\n",
    "print(y)"
   ]
  },
  {
   "cell_type": "code",
   "execution_count": 76,
   "metadata": {},
   "outputs": [
    {
     "name": "stdout",
     "output_type": "stream",
     "text": [
      "(56961, 30)\n",
      "(56961,)\n"
     ]
    }
   ],
   "source": [
    "print(x.shape)\n",
    "print(y.shape)"
   ]
  },
  {
   "cell_type": "code",
   "execution_count": 77,
   "metadata": {},
   "outputs": [],
   "source": [
    "from sklearn.linear_model import LogisticRegression\n",
    "from sklearn.model_selection import train_test_split\n",
    "train_X,test_X,train_Y,test_y=train_test_split(x,y,test_size=0.3)\n"
   ]
  },
  {
   "cell_type": "code",
   "execution_count": 78,
   "metadata": {},
   "outputs": [
    {
     "name": "stderr",
     "output_type": "stream",
     "text": [
      "C:\\Users\\user\\Anaconda3\\lib\\site-packages\\sklearn\\linear_model\\logistic.py:432: FutureWarning: Default solver will be changed to 'lbfgs' in 0.22. Specify a solver to silence this warning.\n",
      "  FutureWarning)\n"
     ]
    },
    {
     "data": {
      "text/plain": [
       "LogisticRegression(C=100000.0, class_weight=None, dual=False,\n",
       "                   fit_intercept=True, intercept_scaling=1, l1_ratio=None,\n",
       "                   max_iter=100, multi_class='warn', n_jobs=None, penalty='l2',\n",
       "                   random_state=None, solver='warn', tol=0.0001, verbose=0,\n",
       "                   warm_start=False)"
      ]
     },
     "execution_count": 78,
     "metadata": {},
     "output_type": "execute_result"
    }
   ],
   "source": [
    "clf=LogisticRegression(C=1e5)\n",
    "clf.fit(train_X,train_Y)"
   ]
  },
  {
   "cell_type": "code",
   "execution_count": 79,
   "metadata": {},
   "outputs": [
    {
     "name": "stdout",
     "output_type": "stream",
     "text": [
      "[0 0 0 ... 0 0 0] [0 0 0 ... 0 0 0]\n"
     ]
    }
   ],
   "source": [
    "y_pred=np.array(clf.predict(train_X))\n",
    "y_actual=np.array(train_Y)\n",
    "print(y_pred,y_actual)"
   ]
  },
  {
   "cell_type": "code",
   "execution_count": 80,
   "metadata": {},
   "outputs": [
    {
     "name": "stdout",
     "output_type": "stream",
     "text": [
      "[[39803    24]\n",
      " [   10    35]]\n"
     ]
    }
   ],
   "source": [
    "from sklearn.metrics import confusion_matrix,classification_report, accuracy_score\n",
    "print(confusion_matrix(y_pred,y_actual))"
   ]
  },
  {
   "cell_type": "code",
   "execution_count": 81,
   "metadata": {},
   "outputs": [
    {
     "name": "stdout",
     "output_type": "stream",
     "text": [
      "99.91472712680579\n"
     ]
    }
   ],
   "source": [
    "print(accuracy_score(y_pred,y_actual)*100)"
   ]
  },
  {
   "cell_type": "code",
   "execution_count": 82,
   "metadata": {},
   "outputs": [
    {
     "name": "stdout",
     "output_type": "stream",
     "text": [
      "              precision    recall  f1-score   support\n",
      "\n",
      "           0       1.00      1.00      1.00     39827\n",
      "           1       0.59      0.78      0.67        45\n",
      "\n",
      "    accuracy                           1.00     39872\n",
      "   macro avg       0.80      0.89      0.84     39872\n",
      "weighted avg       1.00      1.00      1.00     39872\n",
      "\n"
     ]
    }
   ],
   "source": [
    "print(classification_report(y_pred,y_actual))"
   ]
  },
  {
   "cell_type": "code",
   "execution_count": 83,
   "metadata": {},
   "outputs": [],
   "source": [
    "from sklearn.ensemble import RandomForestClassifier"
   ]
  },
  {
   "cell_type": "code",
   "execution_count": 84,
   "metadata": {},
   "outputs": [
    {
     "name": "stderr",
     "output_type": "stream",
     "text": [
      "C:\\Users\\user\\Anaconda3\\lib\\site-packages\\sklearn\\ensemble\\forest.py:245: FutureWarning: The default value of n_estimators will change from 10 in version 0.20 to 100 in 0.22.\n",
      "  \"10 in version 0.20 to 100 in 0.22.\", FutureWarning)\n"
     ]
    },
    {
     "name": "stdout",
     "output_type": "stream",
     "text": [
      "[0 0 0 ... 0 0 0] [0 0 0 ... 0 0 0]\n"
     ]
    }
   ],
   "source": [
    "clf = RandomForestClassifier(random_state = 42)\n",
    "clf.fit(train_X, train_Y)\n",
    "y_pred=np.array(clf.predict(train_X))\n",
    "y_actual=np.array(train_Y)\n",
    "print(y_pred,y_actual)"
   ]
  },
  {
   "cell_type": "code",
   "execution_count": 85,
   "metadata": {},
   "outputs": [
    {
     "name": "stdout",
     "output_type": "stream",
     "text": [
      "Mean Absolute Error: 7.524077046548956e-05\n",
      "Mean Squared Error: 7.524077046548956e-05\n",
      "Root Mean Squared Error: 0.008674143788610467\n"
     ]
    }
   ],
   "source": [
    "from sklearn import metrics\n",
    "\n",
    "print('Mean Absolute Error:', metrics.mean_absolute_error(train_Y,y_pred))\n",
    "print('Mean Squared Error:', metrics.mean_squared_error(train_Y,y_pred))\n",
    "print('Root Mean Squared Error:', np.sqrt(metrics.mean_squared_error(train_Y,y_pred)))"
   ]
  },
  {
   "cell_type": "code",
   "execution_count": 86,
   "metadata": {},
   "outputs": [
    {
     "name": "stdout",
     "output_type": "stream",
     "text": [
      "99.99992475922953\n"
     ]
    }
   ],
   "source": [
    "accuracy=100-(metrics.mean_squared_error(train_Y,y_pred))\n",
    "print(accuracy)"
   ]
  },
  {
   "cell_type": "code",
   "execution_count": null,
   "metadata": {},
   "outputs": [],
   "source": []
  },
  {
   "cell_type": "code",
   "execution_count": null,
   "metadata": {},
   "outputs": [],
   "source": []
  }
 ],
 "metadata": {
  "kernelspec": {
   "display_name": "Python 3",
   "language": "python",
   "name": "python3"
  },
  "language_info": {
   "codemirror_mode": {
    "name": "ipython",
    "version": 3
   },
   "file_extension": ".py",
   "mimetype": "text/x-python",
   "name": "python",
   "nbconvert_exporter": "python",
   "pygments_lexer": "ipython3",
   "version": "3.7.0"
  }
 },
 "nbformat": 4,
 "nbformat_minor": 2
}
